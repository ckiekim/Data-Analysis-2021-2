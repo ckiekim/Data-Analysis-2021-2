{
 "metadata": {
  "language_info": {
   "codemirror_mode": {
    "name": "ipython",
    "version": 3
   },
   "file_extension": ".py",
   "mimetype": "text/x-python",
   "name": "python",
   "nbconvert_exporter": "python",
   "pygments_lexer": "ipython3",
   "version": "3.8.5"
  },
  "orig_nbformat": 2,
  "kernelspec": {
   "name": "python385jvsc74a57bd08c1eae21719a0790335dcb83aad72b63b602cfe5cdb2bda0f60bc11d4f154e4b",
   "display_name": "Python 3.8.5 64-bit ('base': conda)"
  }
 },
 "nbformat": 4,
 "nbformat_minor": 2,
 "cells": [
  {
   "source": [
    "# 충정로역 맛집 검색\n",
    "### 망고 플레이트 활용"
   ],
   "cell_type": "markdown",
   "metadata": {}
  },
  {
   "cell_type": "code",
   "execution_count": 1,
   "metadata": {},
   "outputs": [],
   "source": [
    "import time\n",
    "from selenium import webdriver\n",
    "from selenium.webdriver.common.keys import Keys"
   ]
  },
  {
   "cell_type": "code",
   "execution_count": 8,
   "metadata": {},
   "outputs": [],
   "source": [
    "driver = webdriver.Chrome()\n",
    "driver.get('https://www.mangoplate.com/')"
   ]
  },
  {
   "cell_type": "code",
   "execution_count": 9,
   "metadata": {},
   "outputs": [],
   "source": [
    "driver.switch_to.frame('google_ads_iframe_/395211568/init/desktop_all_0')\n",
    "driver.find_element_by_css_selector('.ad_btn.ad_block_btn').click()"
   ]
  },
  {
   "cell_type": "code",
   "execution_count": 12,
   "metadata": {},
   "outputs": [],
   "source": [
    "driver.switch_to.default_content()"
   ]
  },
  {
   "cell_type": "code",
   "execution_count": 13,
   "metadata": {},
   "outputs": [],
   "source": [
    "search_box = driver.find_element_by_css_selector('#main-search')\n",
    "search_box.send_keys('충정로역')\n",
    "search_box.send_keys(Keys.ENTER)    # Keys.RETURN\n",
    "time.sleep(1)"
   ]
  },
  {
   "source": [
    "- 페이지 알아내기"
   ],
   "cell_type": "markdown",
   "metadata": {}
  },
  {
   "cell_type": "code",
   "execution_count": 14,
   "metadata": {},
   "outputs": [
    {
     "output_type": "execute_result",
     "data": {
      "text/plain": [
       "5"
      ]
     },
     "metadata": {},
     "execution_count": 14
    }
   ],
   "source": [
    "anchors = driver.find_elements_by_css_selector('p.paging>a')\n",
    "len(anchors)"
   ]
  },
  {
   "cell_type": "code",
   "execution_count": 15,
   "metadata": {},
   "outputs": [],
   "source": [
    "page = 0\n",
    "anchors[page].click()"
   ]
  },
  {
   "cell_type": "code",
   "execution_count": 17,
   "metadata": {},
   "outputs": [
    {
     "output_type": "execute_result",
     "data": {
      "text/plain": [
       "10"
      ]
     },
     "metadata": {},
     "execution_count": 17
    }
   ],
   "source": [
    "lis = driver.find_elements_by_css_selector('.list-restaurant')\n",
    "len(lis)"
   ]
  },
  {
   "cell_type": "code",
   "execution_count": 16,
   "metadata": {},
   "outputs": [
    {
     "output_type": "execute_result",
     "data": {
      "text/plain": [
       "0"
      ]
     },
     "metadata": {},
     "execution_count": 16
    }
   ],
   "source": [
    "if page >= 1:\n",
    "    lis = driver.find_elements_by_css_selector('.list-restaurant')\n",
    "else:\n",
    "    lis = driver.find_elements_by_css_selector('.list-restaurant.server_render_search_result_item')\n",
    "len(lis)"
   ]
  },
  {
   "cell_type": "code",
   "execution_count": 18,
   "metadata": {},
   "outputs": [
    {
     "output_type": "error",
     "ename": "IndexError",
     "evalue": "list index out of range",
     "traceback": [
      "\u001b[1;31m---------------------------------------------------------------------------\u001b[0m",
      "\u001b[1;31mIndexError\u001b[0m                                Traceback (most recent call last)",
      "\u001b[1;32m<ipython-input-18-c20fcff7b9f1>\u001b[0m in \u001b[0;36m<module>\u001b[1;34m\u001b[0m\n\u001b[1;32m----> 1\u001b[1;33m \u001b[0mli\u001b[0m \u001b[1;33m=\u001b[0m \u001b[0mlis\u001b[0m\u001b[1;33m[\u001b[0m\u001b[1;36m0\u001b[0m\u001b[1;33m]\u001b[0m\u001b[1;33m\u001b[0m\u001b[1;33m\u001b[0m\u001b[0m\n\u001b[0m\u001b[0;32m      2\u001b[0m \u001b[0mpair\u001b[0m \u001b[1;33m=\u001b[0m \u001b[0mli\u001b[0m\u001b[1;33m.\u001b[0m\u001b[0mfind_elements_by_css_selector\u001b[0m\u001b[1;33m(\u001b[0m\u001b[1;34m'.list-restaurant-item'\u001b[0m\u001b[1;33m)\u001b[0m\u001b[1;33m\u001b[0m\u001b[1;33m\u001b[0m\u001b[0m\n\u001b[0;32m      3\u001b[0m \u001b[1;32mfor\u001b[0m \u001b[0mi\u001b[0m \u001b[1;32min\u001b[0m \u001b[0mrange\u001b[0m\u001b[1;33m(\u001b[0m\u001b[0mlen\u001b[0m\u001b[1;33m(\u001b[0m\u001b[0mpair\u001b[0m\u001b[1;33m)\u001b[0m\u001b[1;33m)\u001b[0m\u001b[1;33m:\u001b[0m\u001b[1;33m\u001b[0m\u001b[1;33m\u001b[0m\u001b[0m\n\u001b[0;32m      4\u001b[0m     \u001b[0minfo\u001b[0m \u001b[1;33m=\u001b[0m \u001b[0mpair\u001b[0m\u001b[1;33m[\u001b[0m\u001b[0mi\u001b[0m\u001b[1;33m]\u001b[0m\u001b[1;33m.\u001b[0m\u001b[0mfind_element_by_css_selector\u001b[0m\u001b[1;33m(\u001b[0m\u001b[1;34m'div.info'\u001b[0m\u001b[1;33m)\u001b[0m\u001b[1;33m\u001b[0m\u001b[1;33m\u001b[0m\u001b[0m\n\u001b[0;32m      5\u001b[0m     \u001b[0mname\u001b[0m \u001b[1;33m=\u001b[0m \u001b[0minfo\u001b[0m\u001b[1;33m.\u001b[0m\u001b[0mfind_element_by_css_selector\u001b[0m\u001b[1;33m(\u001b[0m\u001b[1;34m'.title'\u001b[0m\u001b[1;33m)\u001b[0m\u001b[1;33m.\u001b[0m\u001b[0mtext\u001b[0m\u001b[1;33m\u001b[0m\u001b[1;33m\u001b[0m\u001b[0m\n",
      "\u001b[1;31mIndexError\u001b[0m: list index out of range"
     ]
    }
   ],
   "source": [
    "li = lis[0]\n",
    "pair = li.find_elements_by_css_selector('.list-restaurant-item')\n",
    "for i in range(len(pair)):\n",
    "    info = pair[i].find_element_by_css_selector('div.info')\n",
    "    name = info.find_element_by_css_selector('.title').text\n",
    "    summary = info.find_element_by_css_selector('.etc').text\n",
    "    print(name, summary)"
   ]
  },
  {
   "cell_type": "code",
   "execution_count": 11,
   "metadata": {},
   "outputs": [],
   "source": [
    "pair[1].find_element_by_css_selector('.only-desktop_not').click()"
   ]
  },
  {
   "cell_type": "code",
   "execution_count": 15,
   "metadata": {},
   "outputs": [
    {
     "output_type": "execute_result",
     "data": {
      "text/plain": [
       "'4.3'"
      ]
     },
     "metadata": {},
     "execution_count": 15
    }
   ],
   "source": [
    "score = driver.find_element_by_css_selector('.rate-point').text\r\n",
    "score"
   ]
  },
  {
   "cell_type": "code",
   "execution_count": 17,
   "metadata": {},
   "outputs": [
    {
     "output_type": "execute_result",
     "data": {
      "text/plain": [
       "'서울특별시 서대문구 충정로 20'"
      ]
     },
     "metadata": {},
     "execution_count": 17
    }
   ],
   "source": [
    "table = driver.find_element_by_css_selector('table.info')\n",
    "trs = driver.find_elements_by_css_selector('tbody>tr')\n",
    "addr = trs[0].find_element_by_css_selector('td').text\n",
    "addr = addr.split('\\n')[0]\n",
    "addr"
   ]
  },
  {
   "cell_type": "code",
   "execution_count": 18,
   "metadata": {},
   "outputs": [
    {
     "output_type": "execute_result",
     "data": {
      "text/plain": [
       "'02-362-1394'"
      ]
     },
     "metadata": {},
     "execution_count": 18
    }
   ],
   "source": [
    "tel = trs[1].find_element_by_css_selector('td').text\n",
    "tel"
   ]
  },
  {
   "cell_type": "code",
   "execution_count": 19,
   "metadata": {},
   "outputs": [],
   "source": [
    "driver.back()"
   ]
  },
  {
   "cell_type": "code",
   "execution_count": 31,
   "metadata": {},
   "outputs": [],
   "source": [
    "name_list, score_list, summary_list, addr_list, tel_list = [],[],[],[],[]\n",
    "if page >= 1:\n",
    "    lis = driver.find_elements_by_css_selector('.list-restaurant')\n",
    "else:\n",
    "    lis = driver.find_elements_by_css_selector('.list-restaurant.server_render_search_result_item')\n",
    "lis_len = len(lis)\n",
    "for index in range(lis_len):\n",
    "    if page >= 1:\n",
    "        lis = driver.find_elements_by_css_selector('.list-restaurant')\n",
    "    else:\n",
    "        lis = driver.find_elements_by_css_selector('.list-restaurant.server_render_search_result_item')\n",
    "    pair = lis[index].find_elements_by_css_selector('.list-restaurant-item')\n",
    "    for i in range(len(pair)):\n",
    "        if page >= 1:\n",
    "            lis = driver.find_elements_by_css_selector('.list-restaurant')\n",
    "        else:\n",
    "            lis = driver.find_elements_by_css_selector('.list-restaurant.server_render_search_result_item')\n",
    "        pair = lis[index].find_elements_by_css_selector('.list-restaurant-item')\n",
    "        info = pair[i].find_element_by_css_selector('div.info')\n",
    "        name = info.find_element_by_css_selector('.title').text\n",
    "        summary = info.find_element_by_css_selector('.etc').text\n",
    "        print(index, i, name)\n",
    "        pair[i].find_element_by_css_selector('.only-desktop_not').click()\n",
    "        \n",
    "        time.sleep(1)\n",
    "        try:\n",
    "            score = driver.find_element_by_css_selector('.rate-point').text\n",
    "        except:\n",
    "            score = 'NA'\n",
    "        table = driver.find_element_by_css_selector('table.info')\n",
    "        trs = driver.find_elements_by_css_selector('tbody>tr')\n",
    "        addr = trs[0].find_element_by_css_selector('td').text\n",
    "        addr = addr.split('\\n')[0]\n",
    "        tel = trs[1].find_element_by_css_selector('td').text\n",
    "\n",
    "        name_list.append(name)\n",
    "        score_list.append(score)\n",
    "        summary_list.append(summary)\n",
    "        addr_list.append(addr)\n",
    "        tel_list.append(tel)\n",
    "\n",
    "        driver.back()\n",
    "        time.sleep(1)"
   ]
  },
  {
   "cell_type": "code",
   "execution_count": 18,
   "metadata": {},
   "outputs": [
    {
     "output_type": "execute_result",
     "data": {
      "text/plain": [
       "            상호  평점                       요약                           주소  \\\n",
       "0      왕십리전통곱창  NA             서대문구 - 고기 요리          서울특별시 서대문구 충정로4길 24   \n",
       "1       에스프레소인  NA          서대문구 - 카페 / 디저트        서울특별시 서대문구 서소문로 43-22   \n",
       "2       아현영양족발  NA             서대문구 - 고기 요리           서울특별시 서대문구 경기대로 29   \n",
       "3          브라보  NA             서대문구 - 남미 음식        서울특별시 서대문구 충정로4길 22-4   \n",
       "4       원조봉순게장  NA  서대문구 - 한정식 / 백반 / 정통 한식  서울특별시 서대문구 경기대로 26-26 B1-6호   \n",
       "5          도우스  NA             서대문구 - 기타 양식       서울특별시 서대문구 충정로4길 16 1F   \n",
       "6  미친피자 (서대문점)  NA             서대문구 - 기타 양식     서울특별시 서대문구 서소문로 27 충정리시온   \n",
       "7        하얀꿈호프  NA       서대문구 - 치킨 / 호프 / 펍          서울특별시 서대문구 충정로4길 17   \n",
       "8       홍콩중화요리  NA     서대문구 - 정통 중식 / 일반 중식         서울특별시 서대문구 충정로 13 B1   \n",
       "9         볏꽃주택  NA             서대문구 - 일반 주점          서울특별시 서대문구 충정로4길 20   \n",
       "\n",
       "           전화번호  \n",
       "0   02-313-7911  \n",
       "1  02-7130-0622  \n",
       "2   02-717-8520  \n",
       "3   02-393-1588  \n",
       "4  02-3147-2333  \n",
       "5   02-365-7407  \n",
       "6   02-312-7571  \n",
       "7   02-362-4990  \n",
       "8   02-312-8811  \n",
       "9         일반 주점  "
      ],
      "text/html": "<div>\n<style scoped>\n    .dataframe tbody tr th:only-of-type {\n        vertical-align: middle;\n    }\n\n    .dataframe tbody tr th {\n        vertical-align: top;\n    }\n\n    .dataframe thead th {\n        text-align: right;\n    }\n</style>\n<table border=\"1\" class=\"dataframe\">\n  <thead>\n    <tr style=\"text-align: right;\">\n      <th></th>\n      <th>상호</th>\n      <th>평점</th>\n      <th>요약</th>\n      <th>주소</th>\n      <th>전화번호</th>\n    </tr>\n  </thead>\n  <tbody>\n    <tr>\n      <th>0</th>\n      <td>왕십리전통곱창</td>\n      <td>NA</td>\n      <td>서대문구 - 고기 요리</td>\n      <td>서울특별시 서대문구 충정로4길 24</td>\n      <td>02-313-7911</td>\n    </tr>\n    <tr>\n      <th>1</th>\n      <td>에스프레소인</td>\n      <td>NA</td>\n      <td>서대문구 - 카페 / 디저트</td>\n      <td>서울특별시 서대문구 서소문로 43-22</td>\n      <td>02-7130-0622</td>\n    </tr>\n    <tr>\n      <th>2</th>\n      <td>아현영양족발</td>\n      <td>NA</td>\n      <td>서대문구 - 고기 요리</td>\n      <td>서울특별시 서대문구 경기대로 29</td>\n      <td>02-717-8520</td>\n    </tr>\n    <tr>\n      <th>3</th>\n      <td>브라보</td>\n      <td>NA</td>\n      <td>서대문구 - 남미 음식</td>\n      <td>서울특별시 서대문구 충정로4길 22-4</td>\n      <td>02-393-1588</td>\n    </tr>\n    <tr>\n      <th>4</th>\n      <td>원조봉순게장</td>\n      <td>NA</td>\n      <td>서대문구 - 한정식 / 백반 / 정통 한식</td>\n      <td>서울특별시 서대문구 경기대로 26-26 B1-6호</td>\n      <td>02-3147-2333</td>\n    </tr>\n    <tr>\n      <th>5</th>\n      <td>도우스</td>\n      <td>NA</td>\n      <td>서대문구 - 기타 양식</td>\n      <td>서울특별시 서대문구 충정로4길 16 1F</td>\n      <td>02-365-7407</td>\n    </tr>\n    <tr>\n      <th>6</th>\n      <td>미친피자 (서대문점)</td>\n      <td>NA</td>\n      <td>서대문구 - 기타 양식</td>\n      <td>서울특별시 서대문구 서소문로 27 충정리시온</td>\n      <td>02-312-7571</td>\n    </tr>\n    <tr>\n      <th>7</th>\n      <td>하얀꿈호프</td>\n      <td>NA</td>\n      <td>서대문구 - 치킨 / 호프 / 펍</td>\n      <td>서울특별시 서대문구 충정로4길 17</td>\n      <td>02-362-4990</td>\n    </tr>\n    <tr>\n      <th>8</th>\n      <td>홍콩중화요리</td>\n      <td>NA</td>\n      <td>서대문구 - 정통 중식 / 일반 중식</td>\n      <td>서울특별시 서대문구 충정로 13 B1</td>\n      <td>02-312-8811</td>\n    </tr>\n    <tr>\n      <th>9</th>\n      <td>볏꽃주택</td>\n      <td>NA</td>\n      <td>서대문구 - 일반 주점</td>\n      <td>서울특별시 서대문구 충정로4길 20</td>\n      <td>일반 주점</td>\n    </tr>\n  </tbody>\n</table>\n</div>"
     },
     "metadata": {},
     "execution_count": 18
    }
   ],
   "source": [
    "import pandas as pd \n",
    "df = pd.DataFrame({\n",
    "    '상호': name_list,\n",
    "    '평점': score_list,\n",
    "    '요약': summary_list,\n",
    "    '주소': addr_list,\n",
    "    '전화번호': tel_list\n",
    "})\n",
    "df"
   ]
  },
  {
   "cell_type": "code",
   "execution_count": 18,
   "metadata": {},
   "outputs": [],
   "source": [
    "driver.close()"
   ]
  },
  {
   "cell_type": "code",
   "execution_count": null,
   "metadata": {},
   "outputs": [],
   "source": []
  }
 ]
}