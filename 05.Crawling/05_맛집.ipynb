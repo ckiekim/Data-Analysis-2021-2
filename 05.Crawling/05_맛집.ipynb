{
 "metadata": {
  "language_info": {
   "codemirror_mode": {
    "name": "ipython",
    "version": 3
   },
   "file_extension": ".py",
   "mimetype": "text/x-python",
   "name": "python",
   "nbconvert_exporter": "python",
   "pygments_lexer": "ipython3",
   "version": "3.8.5"
  },
  "orig_nbformat": 2,
  "kernelspec": {
   "name": "python385jvsc74a57bd08c1eae21719a0790335dcb83aad72b63b602cfe5cdb2bda0f60bc11d4f154e4b",
   "display_name": "Python 3.8.5 64-bit ('base': conda)"
  }
 },
 "nbformat": 4,
 "nbformat_minor": 2,
 "cells": [
  {
   "source": [
    "# 충정로역 맛집 검색\n",
    "### 망고 플레이트 활용"
   ],
   "cell_type": "markdown",
   "metadata": {}
  },
  {
   "cell_type": "code",
   "execution_count": 1,
   "metadata": {},
   "outputs": [],
   "source": [
    "import time\n",
    "from selenium import webdriver\n",
    "from selenium.webdriver.common.keys import Keys"
   ]
  },
  {
   "cell_type": "code",
   "execution_count": 14,
   "metadata": {},
   "outputs": [],
   "source": [
    "driver = webdriver.Chrome()\n",
    "driver.get('https://www.mangoplate.com/')"
   ]
  },
  {
   "cell_type": "code",
   "execution_count": 15,
   "metadata": {},
   "outputs": [],
   "source": [
    "search_box = driver.find_element_by_css_selector('#main-search')\n",
    "search_box.send_keys('충정로역')\n",
    "search_box.send_keys(Keys.ENTER)    # Keys.RETURN\n",
    "time.sleep(1)"
   ]
  },
  {
   "source": [
    "- 페이지 알아내기"
   ],
   "cell_type": "markdown",
   "metadata": {}
  },
  {
   "cell_type": "code",
   "execution_count": 4,
   "metadata": {},
   "outputs": [
    {
     "output_type": "execute_result",
     "data": {
      "text/plain": [
       "5"
      ]
     },
     "metadata": {},
     "execution_count": 4
    }
   ],
   "source": [
    "anchors = driver.find_elements_by_css_selector('p.paging>a')\n",
    "len(anchors)"
   ]
  },
  {
   "cell_type": "code",
   "execution_count": 9,
   "metadata": {},
   "outputs": [
    {
     "output_type": "execute_result",
     "data": {
      "text/plain": [
       "10"
      ]
     },
     "metadata": {},
     "execution_count": 9
    }
   ],
   "source": [
    "lis = driver.find_elements_by_css_selector('.list-restaurant.server_render_search_result_item')\n",
    "len(lis)"
   ]
  },
  {
   "cell_type": "code",
   "execution_count": 10,
   "metadata": {},
   "outputs": [
    {
     "output_type": "stream",
     "name": "stdout",
     "text": [
      "위드미치코 서대문구 - 기타 한식\n고릴라 서대문구 - 고기 요리\n"
     ]
    }
   ],
   "source": [
    "li = lis[0]\n",
    "pair = li.find_elements_by_css_selector('.list-restaurant-item')\n",
    "for i in range(len(pair)):\n",
    "    info = pair[i].find_element_by_css_selector('div.info')\n",
    "    name = info.find_element_by_css_selector('.title').text\n",
    "    summary = info.find_element_by_css_selector('.etc').text\n",
    "    print(name, summary)"
   ]
  },
  {
   "cell_type": "code",
   "execution_count": 11,
   "metadata": {},
   "outputs": [],
   "source": [
    "pair[1].find_element_by_css_selector('.only-desktop_not').click()"
   ]
  },
  {
   "cell_type": "code",
   "execution_count": 15,
   "metadata": {},
   "outputs": [
    {
     "output_type": "execute_result",
     "data": {
      "text/plain": [
       "'4.3'"
      ]
     },
     "metadata": {},
     "execution_count": 15
    }
   ],
   "source": [
    "score = driver.find_element_by_css_selector('.rate-point').text\r\n",
    "score"
   ]
  },
  {
   "cell_type": "code",
   "execution_count": 17,
   "metadata": {},
   "outputs": [
    {
     "output_type": "execute_result",
     "data": {
      "text/plain": [
       "'서울특별시 서대문구 충정로 20'"
      ]
     },
     "metadata": {},
     "execution_count": 17
    }
   ],
   "source": [
    "table = driver.find_element_by_css_selector('table.info')\n",
    "trs = driver.find_elements_by_css_selector('tbody>tr')\n",
    "addr = trs[0].find_element_by_css_selector('td').text\n",
    "addr = addr.split('\\n')[0]\n",
    "addr"
   ]
  },
  {
   "cell_type": "code",
   "execution_count": 18,
   "metadata": {},
   "outputs": [
    {
     "output_type": "execute_result",
     "data": {
      "text/plain": [
       "'02-362-1394'"
      ]
     },
     "metadata": {},
     "execution_count": 18
    }
   ],
   "source": [
    "tel = trs[1].find_element_by_css_selector('td').text\n",
    "tel"
   ]
  },
  {
   "cell_type": "code",
   "execution_count": 19,
   "metadata": {},
   "outputs": [],
   "source": [
    "driver.back()"
   ]
  },
  {
   "cell_type": "code",
   "execution_count": 16,
   "metadata": {},
   "outputs": [
    {
     "output_type": "stream",
     "name": "stdout",
     "text": [
      "0 0 위드미치코\n",
      "0 1 고릴라\n",
      "1 0 옐로우보울\n",
      "1 1 철길떡볶이\n",
      "2 0 충정각\n",
      "2 1 양드림식당\n",
      "3 0 깐쪼네\n",
      "3 1 깐부치킨 (충정로역점)\n",
      "4 0 청안식탁\n",
      "4 1 에뚜왈 (충정로점)\n",
      "5 0 세양원\n",
      "5 1 봉추찜닭 (서대문(충정로)점)\n",
      "6 0 차이리\n",
      "6 1 해주면가\n",
      "7 0 작은언덕 카페\n",
      "7 1 곽대리꼼대리닭대리\n",
      "8 0 대피공간\n",
      "8 1 벙커1\n",
      "9 0 마포갈비생고기전문점\n",
      "9 1 히비야\n"
     ]
    }
   ],
   "source": [
    "name_list, score_list, summary_list, addr_list, tel_list = [],[],[],[],[]\n",
    "lis = driver.find_elements_by_css_selector('.list-restaurant.server_render_search_result_item')\n",
    "lis_len = len(lis)\n",
    "for index in range(lis_len):\n",
    "    lis = driver.find_elements_by_css_selector('.list-restaurant.server_render_search_result_item')\n",
    "    pair = lis[index].find_elements_by_css_selector('.list-restaurant-item')\n",
    "    for i in range(len(pair)):\n",
    "        lis = driver.find_elements_by_css_selector('.list-restaurant.server_render_search_result_item')\n",
    "        pair = lis[index].find_elements_by_css_selector('.list-restaurant-item')\n",
    "        info = pair[i].find_element_by_css_selector('div.info')\n",
    "        name = info.find_element_by_css_selector('.title').text\n",
    "        summary = info.find_element_by_css_selector('.etc').text\n",
    "        print(index, i, name)\n",
    "        pair[i].find_element_by_css_selector('.only-desktop_not').click()\n",
    "        \n",
    "        time.sleep(1)\n",
    "        try:\n",
    "            score = driver.find_element_by_css_selector('.rate-point').text\n",
    "        except:\n",
    "            score = 'NA'\n",
    "        table = driver.find_element_by_css_selector('table.info')\n",
    "        trs = driver.find_elements_by_css_selector('tbody>tr')\n",
    "        addr = trs[0].find_element_by_css_selector('td').text\n",
    "        addr = addr.split('\\n')[0]\n",
    "        tel = trs[1].find_element_by_css_selector('td').text\n",
    "\n",
    "        name_list.append(name)\n",
    "        score_list.append(score)\n",
    "        summary_list.append(summary)\n",
    "        addr_list.append(addr)\n",
    "        tel_list.append(tel)\n",
    "\n",
    "        driver.back()\n",
    "        time.sleep(1)"
   ]
  },
  {
   "cell_type": "code",
   "execution_count": 17,
   "metadata": {},
   "outputs": [
    {
     "output_type": "execute_result",
     "data": {
      "text/plain": [
       "                  상호   평점                    요약  \\\n",
       "0              위드미치코  4.3          서대문구 - 기타 한식   \n",
       "1                고릴라  3.7          서대문구 - 고기 요리   \n",
       "2              옐로우보울  3.6          서대문구 - 기타 양식   \n",
       "3              철길떡볶이  3.3          서대문구 - 기타 한식   \n",
       "4                충정각   NA           서대문구 - 이탈리안   \n",
       "5              양드림식당   NA            중구 - 기타 중식   \n",
       "6                깐쪼네   NA           서대문구 - 이탈리안   \n",
       "7       깐부치킨 (충정로역점)   NA    시청/남대문 - 닭 / 오리 요리   \n",
       "8               청안식탁   NA      서대문구 - 닭 / 오리 요리   \n",
       "9         에뚜왈 (충정로점)   NA           서대문구 - 베이커리   \n",
       "10               세양원   NA  서대문구 - 정통 중식 / 일반 중식   \n",
       "11  봉추찜닭 (서대문(충정로)점)   NA      서대문구 - 닭 / 오리 요리   \n",
       "12               차이리   NA  서대문구 - 정통 중식 / 일반 중식   \n",
       "13              해주면가   NA          서대문구 - 기타 한식   \n",
       "14           작은언덕 카페   NA         중구 - 카페 / 디저트   \n",
       "15         곽대리꼼대리닭대리   NA    시청/남대문 - 닭 / 오리 요리   \n",
       "16              대피공간   NA       서대문구 - 칵테일 / 와인   \n",
       "17               벙커1   NA    서대문구 - 치킨 / 호프 / 펍   \n",
       "18        마포갈비생고기전문점   NA          서대문구 - 고기 요리   \n",
       "19               히비야   NA          서대문구 - 까스 요리   \n",
       "\n",
       "                                주소            전화번호  \n",
       "0                서울특별시 서대문구 충정로 20     02-362-1394  \n",
       "1              서울특별시 서대문구 충정로 22-2     02-312-3541  \n",
       "2           서울특별시 서대문구 충정로 7 구세군빌딩    02-6364-4961  \n",
       "3              서울특별시 서대문구 충정로 35-6     02-364-3440  \n",
       "4            서울특별시 서대문구 충정로2길 8 1F     02-313-0424  \n",
       "5               서울특별시 중구 서소문로6길 12    02-6180-1588  \n",
       "6               서울특별시 서대문구 경기대로 23     02-393-4333  \n",
       "7                 서울특별시 중구 서소문로 38     02-313-9282  \n",
       "8              서울특별시 서대문구 충정로4길 21     02-363-7890  \n",
       "9              서울특별시 서대문구 충정로4길 28     02-913-7604  \n",
       "10                서울특별시 서대문구 충정로 8     02-312-2701  \n",
       "11               서울특별시 서대문구 충정로 13     02-393-6981  \n",
       "12  서울특별시 서대문구 서소문로 43-45 오키로키친 2F  0507-1393-8151  \n",
       "13        서울특별시 서대문구 서소문로 27 충정리시온     02-364-3650  \n",
       "14          서울특별시 중구 서소문로 32-15 1F   010-8778-5979  \n",
       "15                서울특별시 중구 서소문로 12     02-312-6063  \n",
       "16         서울특별시 서대문구 충정로4길 5-6 1F   070-4189-4809  \n",
       "17               서울특별시 서대문구 충정로 20     02-762-7607  \n",
       "18              서울특별시 서대문구 경기대로 36     02-312-5989  \n",
       "19                서울특별시 서대문구 충정로 8     02-393-6193  "
      ],
      "text/html": "<div>\n<style scoped>\n    .dataframe tbody tr th:only-of-type {\n        vertical-align: middle;\n    }\n\n    .dataframe tbody tr th {\n        vertical-align: top;\n    }\n\n    .dataframe thead th {\n        text-align: right;\n    }\n</style>\n<table border=\"1\" class=\"dataframe\">\n  <thead>\n    <tr style=\"text-align: right;\">\n      <th></th>\n      <th>상호</th>\n      <th>평점</th>\n      <th>요약</th>\n      <th>주소</th>\n      <th>전화번호</th>\n    </tr>\n  </thead>\n  <tbody>\n    <tr>\n      <th>0</th>\n      <td>위드미치코</td>\n      <td>4.3</td>\n      <td>서대문구 - 기타 한식</td>\n      <td>서울특별시 서대문구 충정로 20</td>\n      <td>02-362-1394</td>\n    </tr>\n    <tr>\n      <th>1</th>\n      <td>고릴라</td>\n      <td>3.7</td>\n      <td>서대문구 - 고기 요리</td>\n      <td>서울특별시 서대문구 충정로 22-2</td>\n      <td>02-312-3541</td>\n    </tr>\n    <tr>\n      <th>2</th>\n      <td>옐로우보울</td>\n      <td>3.6</td>\n      <td>서대문구 - 기타 양식</td>\n      <td>서울특별시 서대문구 충정로 7 구세군빌딩</td>\n      <td>02-6364-4961</td>\n    </tr>\n    <tr>\n      <th>3</th>\n      <td>철길떡볶이</td>\n      <td>3.3</td>\n      <td>서대문구 - 기타 한식</td>\n      <td>서울특별시 서대문구 충정로 35-6</td>\n      <td>02-364-3440</td>\n    </tr>\n    <tr>\n      <th>4</th>\n      <td>충정각</td>\n      <td>NA</td>\n      <td>서대문구 - 이탈리안</td>\n      <td>서울특별시 서대문구 충정로2길 8 1F</td>\n      <td>02-313-0424</td>\n    </tr>\n    <tr>\n      <th>5</th>\n      <td>양드림식당</td>\n      <td>NA</td>\n      <td>중구 - 기타 중식</td>\n      <td>서울특별시 중구 서소문로6길 12</td>\n      <td>02-6180-1588</td>\n    </tr>\n    <tr>\n      <th>6</th>\n      <td>깐쪼네</td>\n      <td>NA</td>\n      <td>서대문구 - 이탈리안</td>\n      <td>서울특별시 서대문구 경기대로 23</td>\n      <td>02-393-4333</td>\n    </tr>\n    <tr>\n      <th>7</th>\n      <td>깐부치킨 (충정로역점)</td>\n      <td>NA</td>\n      <td>시청/남대문 - 닭 / 오리 요리</td>\n      <td>서울특별시 중구 서소문로 38</td>\n      <td>02-313-9282</td>\n    </tr>\n    <tr>\n      <th>8</th>\n      <td>청안식탁</td>\n      <td>NA</td>\n      <td>서대문구 - 닭 / 오리 요리</td>\n      <td>서울특별시 서대문구 충정로4길 21</td>\n      <td>02-363-7890</td>\n    </tr>\n    <tr>\n      <th>9</th>\n      <td>에뚜왈 (충정로점)</td>\n      <td>NA</td>\n      <td>서대문구 - 베이커리</td>\n      <td>서울특별시 서대문구 충정로4길 28</td>\n      <td>02-913-7604</td>\n    </tr>\n    <tr>\n      <th>10</th>\n      <td>세양원</td>\n      <td>NA</td>\n      <td>서대문구 - 정통 중식 / 일반 중식</td>\n      <td>서울특별시 서대문구 충정로 8</td>\n      <td>02-312-2701</td>\n    </tr>\n    <tr>\n      <th>11</th>\n      <td>봉추찜닭 (서대문(충정로)점)</td>\n      <td>NA</td>\n      <td>서대문구 - 닭 / 오리 요리</td>\n      <td>서울특별시 서대문구 충정로 13</td>\n      <td>02-393-6981</td>\n    </tr>\n    <tr>\n      <th>12</th>\n      <td>차이리</td>\n      <td>NA</td>\n      <td>서대문구 - 정통 중식 / 일반 중식</td>\n      <td>서울특별시 서대문구 서소문로 43-45 오키로키친 2F</td>\n      <td>0507-1393-8151</td>\n    </tr>\n    <tr>\n      <th>13</th>\n      <td>해주면가</td>\n      <td>NA</td>\n      <td>서대문구 - 기타 한식</td>\n      <td>서울특별시 서대문구 서소문로 27 충정리시온</td>\n      <td>02-364-3650</td>\n    </tr>\n    <tr>\n      <th>14</th>\n      <td>작은언덕 카페</td>\n      <td>NA</td>\n      <td>중구 - 카페 / 디저트</td>\n      <td>서울특별시 중구 서소문로 32-15 1F</td>\n      <td>010-8778-5979</td>\n    </tr>\n    <tr>\n      <th>15</th>\n      <td>곽대리꼼대리닭대리</td>\n      <td>NA</td>\n      <td>시청/남대문 - 닭 / 오리 요리</td>\n      <td>서울특별시 중구 서소문로 12</td>\n      <td>02-312-6063</td>\n    </tr>\n    <tr>\n      <th>16</th>\n      <td>대피공간</td>\n      <td>NA</td>\n      <td>서대문구 - 칵테일 / 와인</td>\n      <td>서울특별시 서대문구 충정로4길 5-6 1F</td>\n      <td>070-4189-4809</td>\n    </tr>\n    <tr>\n      <th>17</th>\n      <td>벙커1</td>\n      <td>NA</td>\n      <td>서대문구 - 치킨 / 호프 / 펍</td>\n      <td>서울특별시 서대문구 충정로 20</td>\n      <td>02-762-7607</td>\n    </tr>\n    <tr>\n      <th>18</th>\n      <td>마포갈비생고기전문점</td>\n      <td>NA</td>\n      <td>서대문구 - 고기 요리</td>\n      <td>서울특별시 서대문구 경기대로 36</td>\n      <td>02-312-5989</td>\n    </tr>\n    <tr>\n      <th>19</th>\n      <td>히비야</td>\n      <td>NA</td>\n      <td>서대문구 - 까스 요리</td>\n      <td>서울특별시 서대문구 충정로 8</td>\n      <td>02-393-6193</td>\n    </tr>\n  </tbody>\n</table>\n</div>"
     },
     "metadata": {},
     "execution_count": 17
    }
   ],
   "source": [
    "import pandas as pd \n",
    "df = pd.DataFrame({\n",
    "    '상호': name_list,\n",
    "    '평점': score_list,\n",
    "    '요약': summary_list,\n",
    "    '주소': addr_list,\n",
    "    '전화번호': tel_list\n",
    "})\n",
    "df"
   ]
  },
  {
   "cell_type": "code",
   "execution_count": 18,
   "metadata": {},
   "outputs": [],
   "source": [
    "driver.close()"
   ]
  },
  {
   "cell_type": "code",
   "execution_count": null,
   "metadata": {},
   "outputs": [],
   "source": []
  }
 ]
}